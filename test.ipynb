{
 "cells": [
  {
   "cell_type": "code",
   "execution_count": 1,
   "metadata": {},
   "outputs": [
    {
     "name": "stdout",
     "output_type": "stream",
     "text": [
      "WARNING:tensorflow:From d:\\ProgramFiles\\Anaconda\\Lib\\site-packages\\keras\\src\\losses.py:2976: The name tf.losses.sparse_softmax_cross_entropy is deprecated. Please use tf.compat.v1.losses.sparse_softmax_cross_entropy instead.\n",
      "\n"
     ]
    }
   ],
   "source": [
    "import cv2\n",
    "from RTP.utilities import Posefunc\n",
    "import numpy as np\n",
    "import matplotlib.pyplot as plt\n",
    "from matplotlib import cm\n",
    "from matplotlib.ticker import LinearLocator, FormatStrFormatter\n",
    "from mpl_toolkits.mplot3d import Axes3D"
   ]
  },
  {
   "cell_type": "code",
   "execution_count": 2,
   "metadata": {},
   "outputs": [
    {
     "ename": "",
     "evalue": "",
     "output_type": "error",
     "traceback": [
      "\u001b[1;31mThe Kernel crashed while executing code in the the current cell or a previous cell. Please review the code in the cell(s) to identify a possible cause of the failure. Click <a href='https://aka.ms/vscodeJupyterKernelCrash'>here</a> for more info. View Jupyter <a href='command:jupyter.viewOutput'>log</a> for further details."
     ]
    }
   ],
   "source": [
    "camera_video = cv2.VideoCapture(0)\n",
    "cv2.namedWindow('Human Pose', cv2.WINDOW_NORMAL)\n",
    "\n",
    "P = Posefunc()\n",
    "\n",
    "while camera_video.isOpened():\n",
    "    ok, frame = camera_video.read()\n",
    "\n",
    "    if not ok:\n",
    "        continue\n",
    "    \n",
    "    frame = cv2.flip(frame, 1)\n",
    "    frame_height, frame_width, _ = frame.shape\n",
    "\n",
    "    frame = cv2.resize(frame, (int(frame_width * (860 / frame_height)), 860))\n",
    "\n",
    "    frame, landmarks = P.detectPose(frame, P.MP_POSE.Pose(\n",
    "        min_detection_confidence=0.5, min_tracking_confidence=0.5), display=False)\n",
    "\n",
    "    if landmarks:\n",
    "        frame, _ = P.classifyPose(landmarks, frame, display=False)\n",
    "    cv2.imshow('Human Pose', frame)\n",
    "\n",
    "    if cv2.waitKey(10) & 0xFF == ord('q'):\n",
    "        break\n",
    "\n",
    "camera_video.release()\n",
    "# cv2.destroyAllWindows()\n"
   ]
  }
 ],
 "metadata": {
  "kernelspec": {
   "display_name": "moyo_p39",
   "language": "python",
   "name": "python3"
  },
  "language_info": {
   "codemirror_mode": {
    "name": "ipython",
    "version": 3
   },
   "file_extension": ".py",
   "mimetype": "text/x-python",
   "name": "python",
   "nbconvert_exporter": "python",
   "pygments_lexer": "ipython3",
   "version": "3.11.5"
  },
  "orig_nbformat": 4
 },
 "nbformat": 4,
 "nbformat_minor": 2
}
