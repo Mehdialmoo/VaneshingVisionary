{
 "cells": [
  {
   "cell_type": "code",
   "execution_count": 9,
   "metadata": {},
   "outputs": [],
   "source": [
    "import threading\n",
    "import queue\n",
    "import time"
   ]
  },
  {
   "cell_type": "code",
   "execution_count": 10,
   "metadata": {},
   "outputs": [],
   "source": [
    "def gen(data:queue.Queue):\n",
    "    for i in range(8):\n",
    "        print(f'gen {i}',end=':')\n",
    "        data.put(i)\n",
    "        print(f\"put {i} into data. queuesize = {data.qsize()}\")\n",
    "        time.sleep(1)"
   ]
  },
  {
   "cell_type": "code",
   "execution_count": 11,
   "metadata": {},
   "outputs": [],
   "source": [
    "def con(data:queue.Queue):\n",
    "    while True:\n",
    "        if data.qsize() != 0:\n",
    "            item = data.get()\n",
    "            print(f'get {item} from data, queuesize = {data.qsize()}')"
   ]
  },
  {
   "cell_type": "code",
   "execution_count": 12,
   "metadata": {},
   "outputs": [],
   "source": [
    "dataque = queue.Queue()"
   ]
  },
  {
   "cell_type": "code",
   "execution_count": 13,
   "metadata": {},
   "outputs": [],
   "source": [
    "t1 = threading.Thread(target=gen, args=(dataque,))\n",
    "t2 = threading.Thread(target=con, args=(dataque,))"
   ]
  },
  {
   "cell_type": "code",
   "execution_count": 14,
   "metadata": {},
   "outputs": [
    {
     "name": "stderr",
     "output_type": "stream",
     "text": [
      "Exception in thread Thread-8:\n",
      "Traceback (most recent call last):\n",
      "  File \"c:\\Users\\dolph\\anaconda3\\envs\\moyo_p39\\lib\\threading.py\", line 980, in _bootstrap_inner\n",
      "    self.run()\n",
      "  File \"c:\\Users\\dolph\\anaconda3\\envs\\moyo_p39\\lib\\site-packages\\ipykernel\\ipkernel.py\", line 761, in run_closure\n",
      "    _threading_Thread_run(self)\n",
      "  File \"c:\\Users\\dolph\\anaconda3\\envs\\moyo_p39\\lib\\threading.py\", line 917, in run\n",
      "    self._target(*self._args, **self._kwargs)\n",
      "TypeError: __main__.con() argument after * must be an iterable, not Queue\n"
     ]
    }
   ],
   "source": [
    "t2.start()\n"
   ]
  }
 ],
 "metadata": {
  "kernelspec": {
   "display_name": "moyo_p39",
   "language": "python",
   "name": "python3"
  },
  "language_info": {
   "codemirror_mode": {
    "name": "ipython",
    "version": 3
   },
   "file_extension": ".py",
   "mimetype": "text/x-python",
   "name": "python",
   "nbconvert_exporter": "python",
   "pygments_lexer": "ipython3",
   "version": "3.9.18"
  }
 },
 "nbformat": 4,
 "nbformat_minor": 2
}
